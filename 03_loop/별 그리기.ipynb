{
 "cells": [
  {
   "cell_type": "code",
   "execution_count": 1,
   "metadata": {
    "colab": {
     "base_uri": "https://localhost:8080/"
    },
    "executionInfo": {
     "elapsed": 4,
     "status": "ok",
     "timestamp": 1676968233623,
     "user": {
      "displayName": "박종구",
      "userId": "00555690858408693416"
     },
     "user_tz": -540
    },
    "id": "zHomTMS3F6d9",
    "outputId": "114453c7-aa91-486e-c42e-cb44454c7791"
   },
   "outputs": [
    {
     "name": "stdout",
     "output_type": "stream",
     "text": [
      "*\n",
      "**\n",
      "***\n",
      "****\n",
      "*****\n"
     ]
    }
   ],
   "source": [
    "for i in range(5) :\n",
    "  print(\"*\"*(i+1))"
   ]
  },
  {
   "cell_type": "code",
   "execution_count": 2,
   "metadata": {
    "colab": {
     "base_uri": "https://localhost:8080/"
    },
    "executionInfo": {
     "elapsed": 3,
     "status": "ok",
     "timestamp": 1676968221129,
     "user": {
      "displayName": "박종구",
      "userId": "00555690858408693416"
     },
     "user_tz": -540
    },
    "id": "7o-xpEzeF_hd",
    "outputId": "017437aa-19e2-4c1f-8287-a8a3f5192b78"
   },
   "outputs": [
    {
     "name": "stdout",
     "output_type": "stream",
     "text": [
      "*****\n",
      "****\n",
      "***\n",
      "**\n",
      "*\n"
     ]
    }
   ],
   "source": [
    "for i in range(5) :\n",
    "  print(\"*\"*(5-i))"
   ]
  },
  {
   "cell_type": "code",
   "execution_count": 3,
   "metadata": {
    "colab": {
     "base_uri": "https://localhost:8080/"
    },
    "executionInfo": {
     "elapsed": 2,
     "status": "ok",
     "timestamp": 1676968296577,
     "user": {
      "displayName": "박종구",
      "userId": "00555690858408693416"
     },
     "user_tz": -540
    },
    "id": "HMsQXaBoGCb5",
    "outputId": "e0c6ae05-faba-4be6-f4a3-28c531a2287f"
   },
   "outputs": [
    {
     "name": "stdout",
     "output_type": "stream",
     "text": [
      " *****\n",
      "  ****\n",
      "   ***\n",
      "    **\n",
      "     *\n"
     ]
    }
   ],
   "source": [
    "for i in range(5) :\n",
    "  print(\" \"*(i),\"*\"*(5-i))"
   ]
  },
  {
   "cell_type": "code",
   "execution_count": 4,
   "metadata": {
    "colab": {
     "base_uri": "https://localhost:8080/"
    },
    "executionInfo": {
     "elapsed": 3,
     "status": "ok",
     "timestamp": 1676968328300,
     "user": {
      "displayName": "박종구",
      "userId": "00555690858408693416"
     },
     "user_tz": -540
    },
    "id": "k4EuPz8zGSg2",
    "outputId": "51f158e6-6c11-4299-fc82-4875eb2043f4"
   },
   "outputs": [
    {
     "name": "stdout",
     "output_type": "stream",
     "text": [
      "      *\n",
      "     **\n",
      "    ***\n",
      "   ****\n",
      "  *****\n"
     ]
    }
   ],
   "source": [
    "for i in range(5) :\n",
    "  print(\" \"*(5-i),\"*\"*(i+1))"
   ]
  },
  {
   "cell_type": "code",
   "execution_count": 5,
   "metadata": {
    "colab": {
     "base_uri": "https://localhost:8080/"
    },
    "executionInfo": {
     "elapsed": 567,
     "status": "ok",
     "timestamp": 1676968761860,
     "user": {
      "displayName": "박종구",
      "userId": "00555690858408693416"
     },
     "user_tz": -540
    },
    "id": "7NoYtruGGat1",
    "outputId": "7b098eb6-cde4-4a51-e366-a5c22815ea8c"
   },
   "outputs": [
    {
     "name": "stdout",
     "output_type": "stream",
     "text": [
      "      *      \n",
      "     ***     \n",
      "    *****    \n",
      "   *******   \n",
      "  *********  \n"
     ]
    }
   ],
   "source": [
    "for i in range(1,11) :\n",
    "  if i%2 == 1 :\n",
    "    print(\" \"*(5-(i//2)),\"*\"*i,\" \"*(5-(i//2)))"
   ]
  },
  {
   "cell_type": "code",
   "execution_count": 6,
   "metadata": {
    "colab": {
     "base_uri": "https://localhost:8080/"
    },
    "executionInfo": {
     "elapsed": 6,
     "status": "ok",
     "timestamp": 1677031788680,
     "user": {
      "displayName": "박종구",
      "userId": "00555690858408693416"
     },
     "user_tz": -540
    },
    "id": "gxneqez84Zji",
    "outputId": "4a13087e-0241-47db-aec3-ce1a3a184026"
   },
   "outputs": [
    {
     "name": "stdout",
     "output_type": "stream",
     "text": [
      "       *\n",
      "      ***\n",
      "     *****\n",
      "    *******\n",
      "   *********\n",
      "  ***********\n"
     ]
    }
   ],
   "source": [
    "for i in range(1,7) :\n",
    "  print(\" \"*(7-i),\"*\"*(2*i-1))"
   ]
  },
  {
   "cell_type": "code",
   "execution_count": 7,
   "metadata": {
    "colab": {
     "base_uri": "https://localhost:8080/"
    },
    "executionInfo": {
     "elapsed": 307,
     "status": "ok",
     "timestamp": 1677039243084,
     "user": {
      "displayName": "박종구",
      "userId": "00555690858408693416"
     },
     "user_tz": -540
    },
    "id": "3MOEGq0_4opN",
    "outputId": "f3b2c7e9-ae57-4a16-e16b-b261d58ff5f1"
   },
   "outputs": [
    {
     "name": "stdout",
     "output_type": "stream",
     "text": [
      "     *\n",
      "    ***\n",
      "   *****\n",
      "  *******\n",
      "   *****\n",
      "    ***\n",
      "     *\n"
     ]
    }
   ],
   "source": [
    "startCount=5\n",
    "for i in range(1,startCount) :\n",
    "  print(' '*(startCount-i),\"*\"*(2*i-1))\n",
    "for i in range(startCount-2,0,-1) :\n",
    "  print(' '*(startCount-i),\"*\"*(2*i-1))"
   ]
  },
  {
   "cell_type": "code",
   "execution_count": 8,
   "metadata": {
    "colab": {
     "base_uri": "https://localhost:8080/"
    },
    "executionInfo": {
     "elapsed": 7,
     "status": "ok",
     "timestamp": 1676968803110,
     "user": {
      "displayName": "박종구",
      "userId": "00555690858408693416"
     },
     "user_tz": -540
    },
    "id": "29A4zrAlHa6r",
    "outputId": "7dbfefa1-21a6-4c5c-f329-f0818b94ed71"
   },
   "outputs": [
    {
     "name": "stdout",
     "output_type": "stream",
     "text": [
      "      *      \n",
      "     ***     \n",
      "    *****    \n",
      "   *******   \n",
      "  *********  \n",
      "  *********  \n",
      "   *******   \n",
      "    *****    \n",
      "     ***     \n",
      "      *      \n"
     ]
    }
   ],
   "source": [
    "for i in range(1,11) :\n",
    "  if i%2 == 1 :\n",
    "    print(\" \"*(5-(i//2)),\"*\"*i,\" \"*(5-(i//2)))\n",
    "for i in range(10,0,-1) :\n",
    "  if i%2 == 1 :\n",
    "    print(\" \"*(5-(i//2)),\"*\"*i,\" \"*(5-(i//2)))"
   ]
  },
  {
   "cell_type": "code",
   "execution_count": 9,
   "metadata": {
    "colab": {
     "base_uri": "https://localhost:8080/"
    },
    "executionInfo": {
     "elapsed": 2,
     "status": "ok",
     "timestamp": 1676968836391,
     "user": {
      "displayName": "박종구",
      "userId": "00555690858408693416"
     },
     "user_tz": -540
    },
    "id": "nE-7-pm-IP-l",
    "outputId": "43769c4c-9703-43d1-c84d-34f9c788154c"
   },
   "outputs": [
    {
     "name": "stdout",
     "output_type": "stream",
     "text": [
      "  *********  \n",
      "   *******   \n",
      "    *****    \n",
      "     ***     \n",
      "      *      \n",
      "     ***     \n",
      "    *****    \n",
      "   *******   \n",
      "  *********  \n"
     ]
    }
   ],
   "source": [
    "for i in range(10,1,-1) :\n",
    "  if i%2 == 1 :\n",
    "    print(\" \"*(5-(i//2)),\"*\"*i,\" \"*(5-(i//2)))\n",
    "for i in range(1,11) :\n",
    "  if i%2 == 1 :\n",
    "    print(\" \"*(5-(i//2)),\"*\"*i,\" \"*(5-(i//2)))"
   ]
  },
  {
   "cell_type": "code",
   "execution_count": 10,
   "metadata": {
    "colab": {
     "base_uri": "https://localhost:8080/"
    },
    "executionInfo": {
     "elapsed": 293,
     "status": "ok",
     "timestamp": 1677039671758,
     "user": {
      "displayName": "박종구",
      "userId": "00555690858408693416"
     },
     "user_tz": -540
    },
    "id": "CTlFbRLS59rq",
    "outputId": "d5dc57ec-4fd2-4d33-b453-479262b8cfb5"
   },
   "outputs": [
    {
     "name": "stdout",
     "output_type": "stream",
     "text": [
      "     *\n",
      "    *  *\n",
      "   * *\n",
      "  * *\n",
      "   *\n",
      "    *\n",
      "     *\n"
     ]
    }
   ],
   "source": [
    "startCount=5 \n",
    "for i in range(1,startCount) :\n",
    "  if i == 1 :\n",
    "    print(' '*(startCount-i),\"*\")\n",
    "  else :\n",
    "    print(' '*(startCount-i),\"*\",end='')\n",
    "    print(' '*(startCount-2*i),\"*\")\n",
    "for i in range(startCount-2,0,-1) :\n",
    "  print(' '*(startCount-i),\"*\")"
   ]
  },
  {
   "cell_type": "code",
   "execution_count": 11,
   "metadata": {
    "colab": {
     "base_uri": "https://localhost:8080/"
    },
    "executionInfo": {
     "elapsed": 316,
     "status": "ok",
     "timestamp": 1677040235698,
     "user": {
      "displayName": "박종구",
      "userId": "00555690858408693416"
     },
     "user_tz": -540
    },
    "id": "qx0s7d5X6AVU",
    "outputId": "72d116db-a5be-443a-b43e-805de0a11e23"
   },
   "outputs": [
    {
     "name": "stdout",
     "output_type": "stream",
     "text": [
      "     *\n",
      "    * *\n",
      "   *   *\n",
      "  *     *\n",
      " *       *\n",
      "  *     *\n",
      "   *   *\n",
      "    * *\n",
      "     *\n"
     ]
    }
   ],
   "source": [
    "startCount=5 ; odd = 1\n",
    "for i in range(1,startCount) :\n",
    "  if i == 1 :\n",
    "    print(' '*(startCount-i),\"*\")\n",
    "  else :\n",
    "    space = ' '*(odd)\n",
    "    print(' '*(startCount-i),\"*\"+space+\"*\")\n",
    "    odd += 2\n",
    "\n",
    "startCount=5 ; odd = startCount+2\n",
    "for i in range(startCount,0,-1) :\n",
    "  if i == 1 :\n",
    "    print(' '*(startCount-i),\"*\")\n",
    "  else :\n",
    "    space = ' '*(odd)\n",
    "    print(' '*(startCount-i),\"*\"+space+\"*\")\n",
    "    odd -= 2"
   ]
  },
  {
   "cell_type": "code",
   "execution_count": 12,
   "metadata": {
    "colab": {
     "base_uri": "https://localhost:8080/"
    },
    "executionInfo": {
     "elapsed": 290,
     "status": "ok",
     "timestamp": 1677039307657,
     "user": {
      "displayName": "박종구",
      "userId": "00555690858408693416"
     },
     "user_tz": -540
    },
    "id": "RzvNernj9Kfh",
    "outputId": "44c35cc9-0b7b-41d2-b250-f06ed08ac3ef"
   },
   "outputs": [
    {
     "name": "stdout",
     "output_type": "stream",
     "text": [
      "2 X 1 =  2\t3 X 1 =  3\t4 X 1 =  4\n",
      "2 X 2 =  4\t3 X 2 =  6\t4 X 2 =  8\n",
      "2 X 3 =  6\t3 X 3 =  9\t4 X 3 = 12\n",
      "2 X 4 =  8\t3 X 4 = 12\t4 X 4 = 16\n",
      "2 X 5 = 10\t3 X 5 = 15\t4 X 5 = 20\n",
      "2 X 6 = 12\t3 X 6 = 18\t4 X 6 = 24\n",
      "2 X 7 = 14\t3 X 7 = 21\t4 X 7 = 28\n",
      "2 X 8 = 16\t3 X 8 = 24\t4 X 8 = 32\n",
      "2 X 9 = 18\t3 X 9 = 27\t4 X 9 = 36\n",
      "\n",
      "5 X 1 =  5\t6 X 1 =  6\t7 X 1 =  7\n",
      "5 X 2 = 10\t6 X 2 = 12\t7 X 2 = 14\n",
      "5 X 3 = 15\t6 X 3 = 18\t7 X 3 = 21\n",
      "5 X 4 = 20\t6 X 4 = 24\t7 X 4 = 28\n",
      "5 X 5 = 25\t6 X 5 = 30\t7 X 5 = 35\n",
      "5 X 6 = 30\t6 X 6 = 36\t7 X 6 = 42\n",
      "5 X 7 = 35\t6 X 7 = 42\t7 X 7 = 49\n",
      "5 X 8 = 40\t6 X 8 = 48\t7 X 8 = 56\n",
      "5 X 9 = 45\t6 X 9 = 54\t7 X 9 = 63\n",
      "\n",
      "8 X 1 =  8\t9 X 1 =  9\n",
      "8 X 2 = 16\t9 X 2 = 18\n",
      "8 X 3 = 24\t9 X 3 = 27\n",
      "8 X 4 = 32\t9 X 4 = 36\n",
      "8 X 5 = 40\t9 X 5 = 45\n",
      "8 X 6 = 48\t9 X 6 = 54\n",
      "8 X 7 = 56\t9 X 7 = 63\n",
      "8 X 8 = 64\t9 X 8 = 72\n",
      "8 X 9 = 72\t9 X 9 = 81\n",
      "\n"
     ]
    }
   ],
   "source": [
    "for i in range(2,9,3) :\n",
    "  for j in range(1,10) :\n",
    "    print(\"{} X {} = {:2}\".format(i,j,i*j),end='\\t')\n",
    "    if i+2 < 10 :\n",
    "      print(\"{} X {} = {:2}\".format(i+1,j,(i+1)*j),end='\\t')\n",
    "      print(\"{} X {} = {:2}\".format(i+2,j,(i+2)*j))\n",
    "    else :\n",
    "      print(\"{} X {} = {:2}\".format(i+1,j,(i+1)*j))\n",
    "  print()"
   ]
  }
 ],
 "metadata": {
  "colab": {
   "authorship_tag": "ABX9TyOPObvFcZbZHyBQIeev8buF",
   "provenance": []
  },
  "kernelspec": {
   "display_name": "Python 3 (ipykernel)",
   "language": "python",
   "name": "python3"
  },
  "language_info": {
   "codemirror_mode": {
    "name": "ipython",
    "version": 3
   },
   "file_extension": ".py",
   "mimetype": "text/x-python",
   "name": "python",
   "nbconvert_exporter": "python",
   "pygments_lexer": "ipython3",
   "version": "3.8.16"
  }
 },
 "nbformat": 4,
 "nbformat_minor": 1
}
